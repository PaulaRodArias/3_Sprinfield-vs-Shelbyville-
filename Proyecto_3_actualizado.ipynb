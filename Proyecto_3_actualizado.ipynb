{
 "cells": [
  {
   "cell_type": "markdown",
   "metadata": {
    "id": "E0vqbgi9ay0H"
   },
   "source": [
    "# Déjame escuchar la música"
   ]
  },
  {
   "cell_type": "markdown",
   "metadata": {
    "id": "fhq_eyov_Zcs"
   },
   "source": [
    "# Contenido <a id='back'></a>\n",
    "\n",
    "* [Introducción](#intro)\n",
    "* [Etapa 1. Descripción de los datos](#data_review)\n",
    "    * [Conclusiones](#data_review_conclusions)\n",
    "* [Etapa 2. Preprocesamiento de datos](#data_preprocessing)\n",
    "    * [2.1 Estilo del encabezado](#header_style)\n",
    "    * [2.2 Valores ausentes](#missing_values)\n",
    "    * [2.3 Duplicados](#duplicates)\n",
    "    * [2.4 Conclusiones](#data_preprocessing_conclusions)\n",
    "* [Etapa 3. Prueba de hipótesis](#hypothesis)\n",
    "    * [3.1 Hipótesis 1: actividad de los usuarios y las usuarias en las dos ciudades](#activity)\n",
    "* [Conclusiones](#end)"
   ]
  },
  {
   "cell_type": "markdown",
   "metadata": {
    "id": "hDt6pg-Rw-1U"
   },
   "source": [
    "[Volver a Contenidos](#back)"
   ]
  },
  {
   "cell_type": "markdown",
   "metadata": {
    "id": "Ml1hmfXC_Zcs"
   },
   "source": [
    "# Etapa 1. Descripción de los datos <a id='data_review'></a>\n",
    "\n",
    "Abre los datos y examínalos."
   ]
  },
  {
   "cell_type": "markdown",
   "metadata": {
    "id": "57eAOGIz_Zcs"
   },
   "source": [
    "Necesitarás `pandas`, así que impórtalo."
   ]
  },
  {
   "cell_type": "code",
   "execution_count": 1,
   "metadata": {
    "id": "AXN7PHPN_Zcs"
   },
   "outputs": [],
   "source": [
    "# Importar pandas\n",
    "import pandas as pd "
   ]
  },
  {
   "cell_type": "markdown",
   "metadata": {
    "id": "SG23P8tt_Zcs"
   },
   "source": [
    "Lee el archivo `music_project_en.csv` de la carpeta `/datasets/` y guárdalo en la variable `df`:"
   ]
  },
  {
   "cell_type": "code",
   "execution_count": 2,
   "metadata": {
    "id": "fFVu7vqh_Zct"
   },
   "outputs": [],
   "source": [
    "# Leer el archivo y almacenarlo en df\n",
    "df = pd.read_csv('/datasets/music_project_en.csv') "
   ]
  },
  {
   "cell_type": "markdown",
   "metadata": {
    "id": "rDoOMd3uTqnZ"
   },
   "source": [
    "Muestra las 10 primeras filas de la tabla:"
   ]
  },
  {
   "cell_type": "code",
   "execution_count": 3,
   "metadata": {
    "id": "oWTVX3gW_Zct"
   },
   "outputs": [
    {
     "name": "stdout",
     "output_type": "stream",
     "text": [
      "     userID                        Track            artist   genre  \\\n",
      "0  FFB692EC            Kamigata To Boots  The Mass Missile    rock   \n",
      "1  55204538  Delayed Because of Accident  Andreas Rönnberg    rock   \n",
      "2    20EC38            Funiculì funiculà       Mario Lanza     pop   \n",
      "3  A3DD03C9        Dragons in the Sunset        Fire + Ice    folk   \n",
      "4  E2DC1FAE                  Soul People        Space Echo   dance   \n",
      "5  842029A1                       Chains          Obladaet  rusrap   \n",
      "6  4CB90AA5                         True      Roman Messer   dance   \n",
      "7  F03E1C1F             Feeling This Way   Polina Griffith   dance   \n",
      "8  8FA1D3BE                     L’estate       Julia Dalia  ruspop   \n",
      "9  E772D5C0                    Pessimist               NaN   dance   \n",
      "\n",
      "        City        time        Day  \n",
      "0  Shelbyville  20:28:33  Wednesday  \n",
      "1  Springfield  14:07:09     Friday  \n",
      "2  Shelbyville  20:58:07  Wednesday  \n",
      "3  Shelbyville  08:37:09     Monday  \n",
      "4  Springfield  08:34:34     Monday  \n",
      "5  Shelbyville  13:09:41     Friday  \n",
      "6  Springfield  13:00:07  Wednesday  \n",
      "7  Springfield  20:47:49  Wednesday  \n",
      "8  Springfield  09:17:40     Friday  \n",
      "9  Shelbyville  21:20:49  Wednesday  \n"
     ]
    }
   ],
   "source": [
    "# Obtener las 10 primeras filas de la tabla df\n",
    "print(df.head(10))"
   ]
  },
  {
   "cell_type": "markdown",
   "metadata": {
    "id": "EO73Kwic_Zct"
   },
   "source": [
    "Obtén la información general sobre la tabla con un comando. Conoces el método que muestra la información general que necesitamos."
   ]
  },
  {
   "cell_type": "code",
   "execution_count": 4,
   "metadata": {
    "id": "DSf2kIb-_Zct"
   },
   "outputs": [
    {
     "name": "stdout",
     "output_type": "stream",
     "text": [
      "<class 'pandas.core.frame.DataFrame'>\n",
      "RangeIndex: 65079 entries, 0 to 65078\n",
      "Data columns (total 7 columns):\n",
      " #   Column    Non-Null Count  Dtype \n",
      "---  ------    --------------  ----- \n",
      " 0     userID  65079 non-null  object\n",
      " 1   Track     63736 non-null  object\n",
      " 2   artist    57512 non-null  object\n",
      " 3   genre     63881 non-null  object\n",
      " 4     City    65079 non-null  object\n",
      " 5   time      65079 non-null  object\n",
      " 6   Day       65079 non-null  object\n",
      "dtypes: object(7)\n",
      "memory usage: 3.5+ MB\n",
      "None\n"
     ]
    }
   ],
   "source": [
    "# Obtener la información general sobre nuestros datos\n",
    "print(df.info())\n"
   ]
  },
  {
   "cell_type": "markdown",
   "metadata": {
    "id": "TaQ2Iwbr_Zct"
   },
   "source": [
    "Estas son nuestras observaciones sobre la tabla. Contiene siete columnas. Almacenan los mismos tipos de datos: `object`.\n",
    "\n",
    "Según la documentación:\n",
    "- `' userID'`: identificador del usuario o la usuaria;\n",
    "- `'Track'`: título de la canción;\n",
    "- `'artist'`: nombre del artista;\n",
    "- `'genre'`: género de la pista;\n",
    "- `'City'`: ciudad del usuario o la usuaria;\n",
    "- `'time'`: la hora exacta en la que se reprodujo la canción;\n",
    "- `'Day'`: día de la semana.\n",
    "\n",
    "Podemos ver tres problemas con el estilo en los encabezados de la tabla:\n",
    "1. Algunos encabezados están en mayúsculas, otros en minúsculas.\n",
    "2. Hay espacios en algunos encabezados.\n",
    "3. `Detecta el tercer problema por tu cuenta y descríbelo aquí`.\n",
    "    'userID' no sigue el formato snake_case.\n",
    "\n",
    "\n"
   ]
  },
  {
   "cell_type": "markdown",
   "metadata": {
    "id": "MCB6-dXG_Zct"
   },
   "source": [
    "### Conclusiones\n",
    "\n",
    "El dataset incluye 7 columnas y 67059 filas, cuyos datos corresponden a tipo object (o string). Para determinar si la cantidad de datos sirve para corroborar la hipótesis de manera fiable, habría que conocer la cantidad de habitantes promedio por ciudad. Los datos almacenados en cada columna se pueden entender mediante la documentación proporcionada. \n",
    "Al aplicar el método .info() nos damos cuenta que las columnas 'track', 'artist' y 'genre' poseen valores nulos. Estos valores afectarían los resultados si quisiéramos analizar los las canciones o artistas más populares o saber la tendencia de género por día, por ejemplo. "
   ]
  },
  {
   "cell_type": "markdown",
   "metadata": {
    "id": "3eL__vcwViOi"
   },
   "source": [
    "[Volver a Contenidos](#back)"
   ]
  },
  {
   "cell_type": "markdown",
   "metadata": {
    "id": "SjYF6Ub9_Zct"
   },
   "source": [
    "## Etapa 2. Preprocesamiento de datos <a id='data_preprocessing'></a>\n",
    "\n",
    "El objetivo aquí es preparar los datos para que sean analizados.\n",
    "El primer paso es resolver cualquier problema con los encabezados. Luego podemos avanzar a los valores ausentes y duplicados. Empecemos.\n",
    "\n",
    "Corrige el formato en los encabezados de la tabla.\n"
   ]
  },
  {
   "cell_type": "markdown",
   "metadata": {
    "id": "dIaKXr29_Zct"
   },
   "source": [
    "### Estilo del encabezado <a id='header_style'></a>\n",
    "Muestra los encabezados de la tabla (los nombres de las columnas):"
   ]
  },
  {
   "cell_type": "code",
   "execution_count": 5,
   "metadata": {
    "id": "oKOTdF_Q_Zct"
   },
   "outputs": [
    {
     "data": {
      "text/plain": [
       "Index(['  userID', 'Track', 'artist', 'genre', '  City  ', 'time', 'Day'], dtype='object')"
      ]
     },
     "execution_count": 5,
     "metadata": {},
     "output_type": "execute_result"
    }
   ],
   "source": [
    "# Muestra los nombres de las columnas\n",
    "df.columns"
   ]
  },
  {
   "cell_type": "markdown",
   "metadata": {
    "id": "zj5534cv_Zct"
   },
   "source": [
    "Cambia los encabezados de la tabla de acuerdo con las reglas del buen estilo:\n",
    "* Todos los caracteres deben ser minúsculas.\n",
    "* Elimina los espacios.\n",
    "* Si el nombre tiene varias palabras, utiliza snake_case."
   ]
  },
  {
   "cell_type": "markdown",
   "metadata": {
    "id": "Xu0zkfe5zNJe"
   },
   "source": [
    "Anteriormente, aprendiste acerca de la forma automática de cambiar el nombre de las columnas. Vamos a aplicarla ahora. Utiliza el bucle for para iterar sobre los nombres de las columnas y poner todos los caracteres en minúsculas. Cuando hayas terminado, vuelve a mostrar los encabezados de la tabla:"
   ]
  },
  {
   "cell_type": "code",
   "execution_count": 6,
   "metadata": {
    "id": "6I_RwwMhzM4e"
   },
   "outputs": [],
   "source": [
    "# Bucle en los encabezados poniendo todo en minúsculas\n",
    "lowered_col_names = []\n",
    "\n",
    "for old_name in df.columns:\n",
    "    name_lowered = old_name.lower()\n",
    "    lowered_col_names.append(name_lowered)\n",
    "\n",
    "df.columns = lowered_col_names"
   ]
  },
  {
   "cell_type": "markdown",
   "metadata": {
    "id": "pweIRxjSzPYW"
   },
   "source": [
    "Ahora, utilizando el mismo método, elimina los espacios al principio y al final de los nombres de las columnas e imprime los nombres de las columnas nuevamente:"
   ]
  },
  {
   "cell_type": "code",
   "execution_count": 7,
   "metadata": {
    "id": "vVQXbFyJzSYl"
   },
   "outputs": [],
   "source": [
    "# Bucle en los encabezados eliminando los espacios\n",
    "no_spaces_col_names = []\n",
    "\n",
    "for lowered_name in df.columns:\n",
    "    name_no_spaces = lowered_name.strip()\n",
    "    no_spaces_col_names.append(name_no_spaces)\n",
    "\n",
    "df.columns = no_spaces_col_names"
   ]
  },
  {
   "cell_type": "markdown",
   "metadata": {
    "id": "yCb8MW1JzURd"
   },
   "source": [
    "Necesitamos aplicar la regla de snake_case a la columna `userid`. Debe ser `user_id`. Cambia el nombre de esta columna y muestra los nombres de todas las columnas cuando hayas terminado."
   ]
  },
  {
   "cell_type": "code",
   "execution_count": 8,
   "metadata": {
    "id": "ISlFqs5y_Zct"
   },
   "outputs": [],
   "source": [
    "# Cambiar el nombre de la columna \"userid\"\n",
    "column_new = {\n",
    "    'userid': 'user_id'        \n",
    "}\n",
    "\n",
    "df.rename(columns=column_new, inplace=True)"
   ]
  },
  {
   "cell_type": "markdown",
   "metadata": {
    "id": "1dqbh00J_Zct"
   },
   "source": [
    "Comprueba el resultado. Muestra los encabezados una vez más:"
   ]
  },
  {
   "cell_type": "code",
   "execution_count": 9,
   "metadata": {
    "id": "d4NOAmTW_Zct"
   },
   "outputs": [
    {
     "name": "stdout",
     "output_type": "stream",
     "text": [
      "Index(['user_id', 'track', 'artist', 'genre', 'city', 'time', 'day'], dtype='object')\n"
     ]
    }
   ],
   "source": [
    "# Comprobar el resultado: la lista de encabezados\n",
    "print(df.columns)"
   ]
  },
  {
   "cell_type": "markdown",
   "metadata": {
    "id": "xYJk6ksJVpOl"
   },
   "source": [
    "[Volver a Contenidos](#back)"
   ]
  },
  {
   "cell_type": "markdown",
   "metadata": {
    "id": "5ISfbcfY_Zct"
   },
   "source": [
    "### Valores ausentes <a id='missing_values'></a>\n",
    " Primero, encuentra el número de valores ausentes en la tabla. Debes utilizar dos métodos en una secuencia para obtener el número de valores ausentes."
   ]
  },
  {
   "cell_type": "code",
   "execution_count": 10,
   "metadata": {
    "id": "RskX29qr_Zct"
   },
   "outputs": [
    {
     "name": "stdout",
     "output_type": "stream",
     "text": [
      "user_id       0\n",
      "track      1343\n",
      "artist     7567\n",
      "genre      1198\n",
      "city          0\n",
      "time          0\n",
      "day           0\n",
      "dtype: int64\n"
     ]
    }
   ],
   "source": [
    "# Calcular el número de valores ausentes\n",
    "print(df.isna().sum())\n"
   ]
  },
  {
   "cell_type": "markdown",
   "metadata": {
    "id": "qubhgnlO_Zct"
   },
   "source": [
    "No todos los valores ausentes afectan a la investigación. Por ejemplo, los valores ausentes en `track` y `artist` no son cruciales. Simplemente puedes reemplazarlos con valores predeterminados como el string `'unknown'` (desconocido).\n",
    "\n",
    "Pero los valores ausentes en `'genre'` pueden afectar la comparación entre las preferencias musicales de Springfield y Shelbyville. En la vida real, sería útil saber las razones por las cuales hay datos ausentes e intentar recuperarlos. Pero no tenemos esa oportunidad en este proyecto. Así que tendrás que:\n",
    "* rellenar estos valores ausentes con un valor predeterminado;\n",
    "* evaluar cuánto podrían afectar los valores ausentes a tus cómputos;"
   ]
  },
  {
   "cell_type": "markdown",
   "metadata": {
    "id": "fSv2laPA_Zct"
   },
   "source": [
    "Reemplazar los valores ausentes en las columnas `'track'`, `'artist'` y `'genre'` con el string `'unknown'`. Como mostramos anteriormente en las lecciones, la mejor forma de hacerlo es crear una lista que almacene los nombres de las columnas donde se necesita el reemplazo. Luego, utiliza esta lista e itera sobre las columnas donde se necesita el reemplazo haciendo el propio reemplazo."
   ]
  },
  {
   "cell_type": "code",
   "execution_count": 11,
   "metadata": {
    "id": "KplB5qWs_Zct"
   },
   "outputs": [],
   "source": [
    "# Bucle en los encabezados reemplazando los valores ausentes con 'unknown'\n",
    "columns_to_replace = ['track', 'artist', 'genre']\n",
    "\n",
    "for col in columns_to_replace:\n",
    "    df[col].fillna('unknown', inplace=True)"
   ]
  },
  {
   "cell_type": "markdown",
   "metadata": {
    "id": "Ilsm-MZo_Zct"
   },
   "source": [
    "Ahora comprueba el resultado para asegurarte de que después del reemplazo no haya valores ausentes en el conjunto de datos. Para hacer esto, cuenta los valores ausentes nuevamente."
   ]
  },
  {
   "cell_type": "code",
   "execution_count": 12,
   "metadata": {
    "id": "Tq4nYRX4_Zct"
   },
   "outputs": [
    {
     "data": {
      "text/plain": [
       "user_id    0\n",
       "track      0\n",
       "artist     0\n",
       "genre      0\n",
       "city       0\n",
       "time       0\n",
       "day        0\n",
       "dtype: int64"
      ]
     },
     "execution_count": 12,
     "metadata": {},
     "output_type": "execute_result"
    }
   ],
   "source": [
    "# Contar valores ausentes\n",
    "(df.isna().sum())"
   ]
  },
  {
   "cell_type": "markdown",
   "metadata": {
    "id": "74ZIBmq9VrsK"
   },
   "source": [
    "[Volver a Contenidos](#back)"
   ]
  },
  {
   "cell_type": "markdown",
   "metadata": {
    "id": "BWKRtBJ3_Zct"
   },
   "source": [
    "### Duplicados <a id='duplicates'></a>\n",
    "Encuentra el número de duplicados explícitos en la tabla. Una vez más, debes aplicar dos métodos en una secuencia para obtener la cantidad de duplicados explícitos."
   ]
  },
  {
   "cell_type": "code",
   "execution_count": 13,
   "metadata": {
    "id": "36eES_S0_Zct"
   },
   "outputs": [
    {
     "data": {
      "text/plain": [
       "3826"
      ]
     },
     "execution_count": 13,
     "metadata": {},
     "output_type": "execute_result"
    }
   ],
   "source": [
    "# Contar duplicados explícitos\n",
    "df.duplicated().sum()"
   ]
  },
  {
   "cell_type": "markdown",
   "metadata": {
    "id": "Ot25h6XR_Zct"
   },
   "source": [
    "Ahora, elimina todos los duplicados. Para ello, llama al método que hace exactamente esto."
   ]
  },
  {
   "cell_type": "code",
   "execution_count": 14,
   "metadata": {
    "id": "exFHq6tt_Zct"
   },
   "outputs": [],
   "source": [
    "# Eliminar duplicados explícitos\n",
    "df = df.drop_duplicates().reset_index(drop=True)"
   ]
  },
  {
   "cell_type": "markdown",
   "metadata": {
    "id": "Im2YwBEG_Zct"
   },
   "source": [
    "Comprobemos ahora si eliminamos con éxito todos los duplicados. Cuenta los duplicados explícitos una vez más para asegurarte de haberlos eliminado todos:"
   ]
  },
  {
   "cell_type": "code",
   "execution_count": 15,
   "metadata": {
    "id": "-8PuNWQ0_Zct"
   },
   "outputs": [
    {
     "data": {
      "text/plain": [
       "0"
      ]
     },
     "execution_count": 15,
     "metadata": {},
     "output_type": "execute_result"
    }
   ],
   "source": [
    "# Comprobar de nuevo si hay duplicados\n",
    "df.duplicated().sum()\n"
   ]
  },
  {
   "cell_type": "markdown",
   "metadata": {
    "id": "QlFBsxAr_Zct"
   },
   "source": [
    "Ahora queremos deshacernos de los duplicados implícitos en la columna `genre`. Por ejemplo, el nombre de un género se puede escribir de varias formas. Dichos errores también pueden afectar al resultado."
   ]
  },
  {
   "cell_type": "markdown",
   "metadata": {
    "id": "eSjWwsOh_Zct"
   },
   "source": [
    "Para hacerlo, primero mostremos una lista de nombres de género únicos, ordenados en orden alfabético. Para ello:\n",
    "* Extrae la columna `genre` del DataFrame.\n",
    "* Llama al método que devolverá todos los valores únicos en la columna extraída.\n"
   ]
  },
  {
   "cell_type": "code",
   "execution_count": 16,
   "metadata": {
    "id": "JIUcqzZN_Zct"
   },
   "outputs": [
    {
     "data": {
      "text/plain": [
       "array(['acid', 'acoustic', 'action', 'adult', 'africa', 'afrikaans',\n",
       "       'alternative', 'ambient', 'americana', 'animated', 'anime',\n",
       "       'arabesk', 'arabic', 'arena', 'argentinetango', 'art', 'audiobook',\n",
       "       'avantgarde', 'axé', 'baile', 'balkan', 'beats', 'bigroom',\n",
       "       'black', 'bluegrass', 'blues', 'bollywood', 'bossa', 'brazilian',\n",
       "       'breakbeat', 'breaks', 'broadway', 'cantautori', 'cantopop',\n",
       "       'canzone', 'caribbean', 'caucasian', 'celtic', 'chamber',\n",
       "       'children', 'chill', 'chinese', 'choral', 'christian', 'christmas',\n",
       "       'classical', 'classicmetal', 'club', 'colombian', 'comedy',\n",
       "       'conjazz', 'contemporary', 'country', 'cuban', 'dance',\n",
       "       'dancehall', 'dancepop', 'dark', 'death', 'deep', 'deutschrock',\n",
       "       'deutschspr', 'dirty', 'disco', 'dnb', 'documentary', 'downbeat',\n",
       "       'downtempo', 'drum', 'dub', 'dubstep', 'eastern', 'easy',\n",
       "       'electronic', 'electropop', 'emo', 'entehno', 'epicmetal',\n",
       "       'estrada', 'ethnic', 'eurofolk', 'european', 'experimental',\n",
       "       'extrememetal', 'fado', 'film', 'fitness', 'flamenco', 'folk',\n",
       "       'folklore', 'folkmetal', 'folkrock', 'folktronica', 'forró',\n",
       "       'frankreich', 'französisch', 'french', 'funk', 'future', 'gangsta',\n",
       "       'garage', 'german', 'ghazal', 'gitarre', 'glitch', 'gospel',\n",
       "       'gothic', 'grime', 'grunge', 'gypsy', 'handsup', \"hard'n'heavy\",\n",
       "       'hardcore', 'hardstyle', 'hardtechno', 'hip', 'hip-hop', 'hiphop',\n",
       "       'historisch', 'holiday', 'hop', 'horror', 'house', 'idm',\n",
       "       'independent', 'indian', 'indie', 'indipop', 'industrial',\n",
       "       'inspirational', 'instrumental', 'international', 'irish', 'jam',\n",
       "       'japanese', 'jazz', 'jewish', 'jpop', 'jungle', 'k-pop',\n",
       "       'karadeniz', 'karaoke', 'kayokyoku', 'korean', 'laiko', 'latin',\n",
       "       'latino', 'leftfield', 'local', 'lounge', 'loungeelectronic',\n",
       "       'lovers', 'malaysian', 'mandopop', 'marschmusik', 'meditative',\n",
       "       'mediterranean', 'melodic', 'metal', 'metalcore', 'mexican',\n",
       "       'middle', 'minimal', 'miscellaneous', 'modern', 'mood', 'mpb',\n",
       "       'muslim', 'native', 'neoklassik', 'neue', 'new', 'newage',\n",
       "       'newwave', 'nu', 'nujazz', 'numetal', 'oceania', 'old', 'opera',\n",
       "       'orchestral', 'other', 'piano', 'pop', 'popelectronic',\n",
       "       'popeurodance', 'post', 'posthardcore', 'postrock', 'power',\n",
       "       'progmetal', 'progressive', 'psychedelic', 'punjabi', 'punk',\n",
       "       'quebecois', 'ragga', 'ram', 'rancheras', 'rap', 'rave', 'reggae',\n",
       "       'reggaeton', 'regional', 'relax', 'religious', 'retro', 'rhythm',\n",
       "       'rnb', 'rnr', 'rock', 'rockabilly', 'romance', 'roots', 'ruspop',\n",
       "       'rusrap', 'rusrock', 'salsa', 'samba', 'schlager', 'self',\n",
       "       'sertanejo', 'shoegazing', 'showtunes', 'singer', 'ska', 'slow',\n",
       "       'smooth', 'soul', 'soulful', 'sound', 'soundtrack', 'southern',\n",
       "       'specialty', 'speech', 'spiritual', 'sport', 'stonerrock', 'surf',\n",
       "       'swing', 'synthpop', 'sängerportrait', 'tango', 'tanzorchester',\n",
       "       'taraftar', 'tech', 'techno', 'thrash', 'top', 'traditional',\n",
       "       'tradjazz', 'trance', 'tribal', 'trip', 'triphop', 'tropical',\n",
       "       'türk', 'türkçe', 'unknown', 'urban', 'uzbek', 'variété', 'vi',\n",
       "       'videogame', 'vocal', 'western', 'world', 'worldbeat', 'ïîï'],\n",
       "      dtype=object)"
      ]
     },
     "execution_count": 16,
     "metadata": {},
     "output_type": "execute_result"
    }
   ],
   "source": [
    "# Inspeccionar los nombres de géneros únicos\n",
    "df['genre'].sort_values().unique()"
   ]
  },
  {
   "cell_type": "markdown",
   "metadata": {
    "id": "qej-Qmuo_Zct"
   },
   "source": [
    "Busca en la lista para encontrar duplicados implícitos del género `hiphop`. Estos pueden ser nombres escritos incorrectamente o nombres alternativos para el mismo género.\n",
    "\n",
    "Verás los siguientes duplicados implícitos:\n",
    "* `hip`\n",
    "* `hop`\n",
    "* `hip-hop`\n",
    "\n",
    "Para deshacerte de ellos, crea una función llamada `replace_wrong_genres()` con dos parámetros:\n",
    "* `wrong_genres=`: esta es una lista que contiene todos los valores que necesitas reemplazar.\n",
    "* `correct_genre=`: este es un string que vas a utilizar como reemplazo.\n",
    "\n",
    "Como resultado, la función debería corregir los nombres en la columna `'genre'` de la tabla `df`, es decir, remplazar cada valor de la lista `wrong_genres` por el valor en `correct_genre`.\n",
    "\n",
    "Dentro del cuerpo de la función, utiliza un bucle `'for'` para iterar sobre la lista de géneros incorrectos, extrae la columna `'genre'` y aplica el método `replace` para hacer correcciones."
   ]
  },
  {
   "cell_type": "code",
   "execution_count": 17,
   "metadata": {
    "id": "ErNDkmns_Zct"
   },
   "outputs": [],
   "source": [
    "# Función para reemplazar duplicados implícitos\n",
    "def replace_wrong_genres(df, column, wrong_values, correct_value):\n",
    "    for wrong_value in wrong_values:\n",
    "        df[column] = df[column].replace(wrong_value, correct_value)\n",
    "    return df        "
   ]
  },
  {
   "cell_type": "markdown",
   "metadata": {
    "id": "aDoBJxbA_Zct"
   },
   "source": [
    "Ahora, llama a `replace_wrong_genres()` y pásale tales argumentos para que retire los duplicados implícitos (`hip`, `hop` y `hip-hop`) y los reemplace por `hiphop`:"
   ]
  },
  {
   "cell_type": "code",
   "execution_count": 18,
   "metadata": {
    "id": "YN5i2hpmSo09"
   },
   "outputs": [
    {
     "data": {
      "text/html": [
       "<div>\n",
       "<style scoped>\n",
       "    .dataframe tbody tr th:only-of-type {\n",
       "        vertical-align: middle;\n",
       "    }\n",
       "\n",
       "    .dataframe tbody tr th {\n",
       "        vertical-align: top;\n",
       "    }\n",
       "\n",
       "    .dataframe thead th {\n",
       "        text-align: right;\n",
       "    }\n",
       "</style>\n",
       "<table border=\"1\" class=\"dataframe\">\n",
       "  <thead>\n",
       "    <tr style=\"text-align: right;\">\n",
       "      <th></th>\n",
       "      <th>user_id</th>\n",
       "      <th>track</th>\n",
       "      <th>artist</th>\n",
       "      <th>genre</th>\n",
       "      <th>city</th>\n",
       "      <th>time</th>\n",
       "      <th>day</th>\n",
       "    </tr>\n",
       "  </thead>\n",
       "  <tbody>\n",
       "    <tr>\n",
       "      <th>0</th>\n",
       "      <td>FFB692EC</td>\n",
       "      <td>Kamigata To Boots</td>\n",
       "      <td>The Mass Missile</td>\n",
       "      <td>rock</td>\n",
       "      <td>Shelbyville</td>\n",
       "      <td>20:28:33</td>\n",
       "      <td>Wednesday</td>\n",
       "    </tr>\n",
       "    <tr>\n",
       "      <th>1</th>\n",
       "      <td>55204538</td>\n",
       "      <td>Delayed Because of Accident</td>\n",
       "      <td>Andreas Rönnberg</td>\n",
       "      <td>rock</td>\n",
       "      <td>Springfield</td>\n",
       "      <td>14:07:09</td>\n",
       "      <td>Friday</td>\n",
       "    </tr>\n",
       "    <tr>\n",
       "      <th>2</th>\n",
       "      <td>20EC38</td>\n",
       "      <td>Funiculì funiculà</td>\n",
       "      <td>Mario Lanza</td>\n",
       "      <td>pop</td>\n",
       "      <td>Shelbyville</td>\n",
       "      <td>20:58:07</td>\n",
       "      <td>Wednesday</td>\n",
       "    </tr>\n",
       "    <tr>\n",
       "      <th>3</th>\n",
       "      <td>A3DD03C9</td>\n",
       "      <td>Dragons in the Sunset</td>\n",
       "      <td>Fire + Ice</td>\n",
       "      <td>folk</td>\n",
       "      <td>Shelbyville</td>\n",
       "      <td>08:37:09</td>\n",
       "      <td>Monday</td>\n",
       "    </tr>\n",
       "    <tr>\n",
       "      <th>4</th>\n",
       "      <td>E2DC1FAE</td>\n",
       "      <td>Soul People</td>\n",
       "      <td>Space Echo</td>\n",
       "      <td>dance</td>\n",
       "      <td>Springfield</td>\n",
       "      <td>08:34:34</td>\n",
       "      <td>Monday</td>\n",
       "    </tr>\n",
       "    <tr>\n",
       "      <th>...</th>\n",
       "      <td>...</td>\n",
       "      <td>...</td>\n",
       "      <td>...</td>\n",
       "      <td>...</td>\n",
       "      <td>...</td>\n",
       "      <td>...</td>\n",
       "      <td>...</td>\n",
       "    </tr>\n",
       "    <tr>\n",
       "      <th>61248</th>\n",
       "      <td>729CBB09</td>\n",
       "      <td>My Name</td>\n",
       "      <td>McLean</td>\n",
       "      <td>rnb</td>\n",
       "      <td>Springfield</td>\n",
       "      <td>13:32:28</td>\n",
       "      <td>Wednesday</td>\n",
       "    </tr>\n",
       "    <tr>\n",
       "      <th>61249</th>\n",
       "      <td>D08D4A55</td>\n",
       "      <td>Maybe One Day (feat. Black Spade)</td>\n",
       "      <td>Blu &amp; Exile</td>\n",
       "      <td>hiphop</td>\n",
       "      <td>Shelbyville</td>\n",
       "      <td>10:00:00</td>\n",
       "      <td>Monday</td>\n",
       "    </tr>\n",
       "    <tr>\n",
       "      <th>61250</th>\n",
       "      <td>C5E3A0D5</td>\n",
       "      <td>Jalopiina</td>\n",
       "      <td>unknown</td>\n",
       "      <td>industrial</td>\n",
       "      <td>Springfield</td>\n",
       "      <td>20:09:26</td>\n",
       "      <td>Friday</td>\n",
       "    </tr>\n",
       "    <tr>\n",
       "      <th>61251</th>\n",
       "      <td>321D0506</td>\n",
       "      <td>Freight Train</td>\n",
       "      <td>Chas McDevitt</td>\n",
       "      <td>rock</td>\n",
       "      <td>Springfield</td>\n",
       "      <td>21:43:59</td>\n",
       "      <td>Friday</td>\n",
       "    </tr>\n",
       "    <tr>\n",
       "      <th>61252</th>\n",
       "      <td>3A64EF84</td>\n",
       "      <td>Tell Me Sweet Little Lies</td>\n",
       "      <td>Monica Lopez</td>\n",
       "      <td>country</td>\n",
       "      <td>Springfield</td>\n",
       "      <td>21:59:46</td>\n",
       "      <td>Friday</td>\n",
       "    </tr>\n",
       "  </tbody>\n",
       "</table>\n",
       "<p>61253 rows × 7 columns</p>\n",
       "</div>"
      ],
      "text/plain": [
       "        user_id                              track            artist  \\\n",
       "0      FFB692EC                  Kamigata To Boots  The Mass Missile   \n",
       "1      55204538        Delayed Because of Accident  Andreas Rönnberg   \n",
       "2        20EC38                  Funiculì funiculà       Mario Lanza   \n",
       "3      A3DD03C9              Dragons in the Sunset        Fire + Ice   \n",
       "4      E2DC1FAE                        Soul People        Space Echo   \n",
       "...         ...                                ...               ...   \n",
       "61248  729CBB09                            My Name            McLean   \n",
       "61249  D08D4A55  Maybe One Day (feat. Black Spade)       Blu & Exile   \n",
       "61250  C5E3A0D5                          Jalopiina           unknown   \n",
       "61251  321D0506                      Freight Train     Chas McDevitt   \n",
       "61252  3A64EF84          Tell Me Sweet Little Lies      Monica Lopez   \n",
       "\n",
       "            genre         city      time        day  \n",
       "0            rock  Shelbyville  20:28:33  Wednesday  \n",
       "1            rock  Springfield  14:07:09     Friday  \n",
       "2             pop  Shelbyville  20:58:07  Wednesday  \n",
       "3            folk  Shelbyville  08:37:09     Monday  \n",
       "4           dance  Springfield  08:34:34     Monday  \n",
       "...           ...          ...       ...        ...  \n",
       "61248         rnb  Springfield  13:32:28  Wednesday  \n",
       "61249      hiphop  Shelbyville  10:00:00     Monday  \n",
       "61250  industrial  Springfield  20:09:26     Friday  \n",
       "61251        rock  Springfield  21:43:59     Friday  \n",
       "61252     country  Springfield  21:59:46     Friday  \n",
       "\n",
       "[61253 rows x 7 columns]"
      ]
     },
     "execution_count": 18,
     "metadata": {},
     "output_type": "execute_result"
    }
   ],
   "source": [
    "# Eliminar duplicados implícitos\n",
    "wrong_genres = ['hip', 'hop', 'hip-hop']\n",
    "correct_genre = ('hiphop')\n",
    "\n",
    "replace_wrong_genres(df, 'genre', wrong_genres, correct_genre)"
   ]
  },
  {
   "cell_type": "markdown",
   "metadata": {
    "id": "zQKF16_RG15m"
   },
   "source": [
    "Asegúrate de que los nombres duplicados han sido eliminados. Muestra la lista de valores únicos de la columna `'genre'` una vez más:"
   ]
  },
  {
   "cell_type": "code",
   "execution_count": 19,
   "metadata": {
    "id": "wvixALnFG15m"
   },
   "outputs": [
    {
     "data": {
      "text/plain": [
       "array(['acid', 'acoustic', 'action', 'adult', 'africa', 'afrikaans',\n",
       "       'alternative', 'ambient', 'americana', 'animated', 'anime',\n",
       "       'arabesk', 'arabic', 'arena', 'argentinetango', 'art', 'audiobook',\n",
       "       'avantgarde', 'axé', 'baile', 'balkan', 'beats', 'bigroom',\n",
       "       'black', 'bluegrass', 'blues', 'bollywood', 'bossa', 'brazilian',\n",
       "       'breakbeat', 'breaks', 'broadway', 'cantautori', 'cantopop',\n",
       "       'canzone', 'caribbean', 'caucasian', 'celtic', 'chamber',\n",
       "       'children', 'chill', 'chinese', 'choral', 'christian', 'christmas',\n",
       "       'classical', 'classicmetal', 'club', 'colombian', 'comedy',\n",
       "       'conjazz', 'contemporary', 'country', 'cuban', 'dance',\n",
       "       'dancehall', 'dancepop', 'dark', 'death', 'deep', 'deutschrock',\n",
       "       'deutschspr', 'dirty', 'disco', 'dnb', 'documentary', 'downbeat',\n",
       "       'downtempo', 'drum', 'dub', 'dubstep', 'eastern', 'easy',\n",
       "       'electronic', 'electropop', 'emo', 'entehno', 'epicmetal',\n",
       "       'estrada', 'ethnic', 'eurofolk', 'european', 'experimental',\n",
       "       'extrememetal', 'fado', 'film', 'fitness', 'flamenco', 'folk',\n",
       "       'folklore', 'folkmetal', 'folkrock', 'folktronica', 'forró',\n",
       "       'frankreich', 'französisch', 'french', 'funk', 'future', 'gangsta',\n",
       "       'garage', 'german', 'ghazal', 'gitarre', 'glitch', 'gospel',\n",
       "       'gothic', 'grime', 'grunge', 'gypsy', 'handsup', \"hard'n'heavy\",\n",
       "       'hardcore', 'hardstyle', 'hardtechno', 'hiphop', 'historisch',\n",
       "       'holiday', 'horror', 'house', 'idm', 'independent', 'indian',\n",
       "       'indie', 'indipop', 'industrial', 'inspirational', 'instrumental',\n",
       "       'international', 'irish', 'jam', 'japanese', 'jazz', 'jewish',\n",
       "       'jpop', 'jungle', 'k-pop', 'karadeniz', 'karaoke', 'kayokyoku',\n",
       "       'korean', 'laiko', 'latin', 'latino', 'leftfield', 'local',\n",
       "       'lounge', 'loungeelectronic', 'lovers', 'malaysian', 'mandopop',\n",
       "       'marschmusik', 'meditative', 'mediterranean', 'melodic', 'metal',\n",
       "       'metalcore', 'mexican', 'middle', 'minimal', 'miscellaneous',\n",
       "       'modern', 'mood', 'mpb', 'muslim', 'native', 'neoklassik', 'neue',\n",
       "       'new', 'newage', 'newwave', 'nu', 'nujazz', 'numetal', 'oceania',\n",
       "       'old', 'opera', 'orchestral', 'other', 'piano', 'pop',\n",
       "       'popelectronic', 'popeurodance', 'post', 'posthardcore',\n",
       "       'postrock', 'power', 'progmetal', 'progressive', 'psychedelic',\n",
       "       'punjabi', 'punk', 'quebecois', 'ragga', 'ram', 'rancheras', 'rap',\n",
       "       'rave', 'reggae', 'reggaeton', 'regional', 'relax', 'religious',\n",
       "       'retro', 'rhythm', 'rnb', 'rnr', 'rock', 'rockabilly', 'romance',\n",
       "       'roots', 'ruspop', 'rusrap', 'rusrock', 'salsa', 'samba',\n",
       "       'schlager', 'self', 'sertanejo', 'shoegazing', 'showtunes',\n",
       "       'singer', 'ska', 'slow', 'smooth', 'soul', 'soulful', 'sound',\n",
       "       'soundtrack', 'southern', 'specialty', 'speech', 'spiritual',\n",
       "       'sport', 'stonerrock', 'surf', 'swing', 'synthpop',\n",
       "       'sängerportrait', 'tango', 'tanzorchester', 'taraftar', 'tech',\n",
       "       'techno', 'thrash', 'top', 'traditional', 'tradjazz', 'trance',\n",
       "       'tribal', 'trip', 'triphop', 'tropical', 'türk', 'türkçe',\n",
       "       'unknown', 'urban', 'uzbek', 'variété', 'vi', 'videogame', 'vocal',\n",
       "       'western', 'world', 'worldbeat', 'ïîï'], dtype=object)"
      ]
     },
     "execution_count": 19,
     "metadata": {},
     "output_type": "execute_result"
    }
   ],
   "source": [
    "# Comprobación de duplicados implícitos\n",
    "df['genre'].sort_values().unique()"
   ]
  },
  {
   "cell_type": "markdown",
   "metadata": {
    "id": "ALgNbvF3VtPA"
   },
   "source": [
    "[Volver a Contenidos](#back)"
   ]
  },
  {
   "cell_type": "markdown",
   "metadata": {
    "id": "jz6a9-7HQUDd"
   },
   "source": [
    "**Observaciones pre-procesamiento de datos**\n",
    "\n",
    "Se utilizó método .drop_duplicates() para obtener el siguiente resultado:\n",
    "  1. Los datos duplicados son de 3826, así que la cantidad total de datos a analizar es de 61.252. Por lo que la muestra es muy pequeña para obtener conclusiones fiables\n",
    "    \n",
    "Para contabilizar los valores ausentes, se utilizó el métod .isna() en conjunto con .sum(). Los resultados son los siguientes:\n",
    "\n",
    "  1. Dentro de los datos, la columna 'artist' presente 7567 valores ausente. A modo de conclusión, si se quisiera analizar el artista más popular dentro de la población, este resultado estaría alterado. \n",
    "  2. La columna 'genre' presenta 1196 valores ausente, por lo que afecta directamente la conclusión de la hipótesis. Esos valores cambiarán la tendencia en preferencias musicales.\n",
    "   "
   ]
  },
  {
   "cell_type": "markdown",
   "metadata": {
    "id": "eK1es74rVujj"
   },
   "source": [
    "[Volver a Contenidos](#back)"
   ]
  },
  {
   "cell_type": "markdown",
   "metadata": {
    "id": "WttZHXH0SqKk"
   },
   "source": [
    "## Etapa 3. Prueba de hipótesis <a id='hypothesis'></a>"
   ]
  },
  {
   "cell_type": "markdown",
   "metadata": {
    "id": "Im936VVi_Zcu"
   },
   "source": [
    "### Hipótesis: comparar el comportamiento del usuario o la usuaria en las dos ciudades <a id='activity'></a>"
   ]
  },
  {
   "cell_type": "markdown",
   "metadata": {
    "id": "nwt_MuaL_Zcu"
   },
   "source": [
    "La hipótesis afirma que existen diferencias en la forma en que los usuarios y las usuarias de Springfield y Shelbyville consumen música. Para comprobar esto, usa los datos de tres días de la semana: lunes, miércoles y viernes.\n",
    "\n",
    "* Agrupa a los usuarios y las usuarias por ciudad.\n",
    "* Compara el número de canciones que cada grupo reprodujo el lunes, el miércoles y el viernes.\n"
   ]
  },
  {
   "cell_type": "markdown",
   "metadata": {
    "id": "8Dw_YMmT_Zcu"
   },
   "source": [
    "Realiza cada cálculo por separado.\n",
    "\n",
    "El primer paso es evaluar la actividad del usuario en cada ciudad. Recuerda las etapas dividir-aplicar-combinar de las que hablamos anteriormente en la lección. Tu objetivo ahora es agrupar los datos por ciudad, aplicar el método apropiado para contar durante la etapa de aplicación y luego encontrar la cantidad de canciones reproducidas en cada grupo especificando la columna para obtener el recuento.\n",
    "\n",
    "A continuación se muestra un ejemplo de cómo debería verse el resultado final:\n",
    "`df.groupby(by='....')['column'].method()`Realiza cada cálculo por separado.\n",
    "\n",
    "Para evaluar la actividad de los usuarios y las usuarias en cada ciudad, agrupa los datos por ciudad y encuentra la cantidad de canciones reproducidas en cada grupo.\n",
    "\n"
   ]
  },
  {
   "cell_type": "code",
   "execution_count": 20,
   "metadata": {
    "id": "0_Qs96oh_Zcu"
   },
   "outputs": [
    {
     "data": {
      "text/plain": [
       "city\n",
       "Shelbyville    18512\n",
       "Springfield    42741\n",
       "Name: track, dtype: int64"
      ]
     },
     "execution_count": 20,
     "metadata": {},
     "output_type": "execute_result"
    }
   ],
   "source": [
    "# Contar las canciones reproducidas en cada ciudad\n",
    "df.groupby('city')['track'].count()"
   ]
  },
  {
   "cell_type": "markdown",
   "metadata": {
    "id": "t_Qx-3NewAnK"
   },
   "source": [
    "Al agrupar los datos por ciudad, nos damos cuenta que Shelbyville escuchó 18512 y Springfield 42741, lo que representan un 30.2% y 69.8% del total de los datos respectivamente. "
   ]
  },
  {
   "cell_type": "markdown",
   "metadata": {
    "id": "dzli3w8o_Zcu"
   },
   "source": [
    "Ahora agrupemos los datos por día de la semana y encontremos el número de canciones reproducidas el lunes, miércoles y viernes. Utiliza el mismo método que antes, pero ahora necesitamos una agrupación diferente.\n"
   ]
  },
  {
   "cell_type": "code",
   "execution_count": 21,
   "metadata": {
    "id": "uZMKjiJz_Zcu"
   },
   "outputs": [
    {
     "data": {
      "text/plain": [
       "day\n",
       "Friday       21840\n",
       "Monday       21354\n",
       "Wednesday    18059\n",
       "Name: track, dtype: int64"
      ]
     },
     "execution_count": 21,
     "metadata": {},
     "output_type": "execute_result"
    }
   ],
   "source": [
    "# Calcular las canciones reproducidas en cada uno de los tres días\n",
    "df.groupby('day')['track'].count()"
   ]
  },
  {
   "cell_type": "markdown",
   "metadata": {
    "id": "cC2tNrlL_Zcu"
   },
   "source": [
    "Observando los datos, se puede deducir que el inicio y término de la semana laboral son los días en que los habitantes de a,bas ciudades prefieren escuchar música, con tan solo una leve mayoría de canciones reproducidas el día Viernes. \n",
    "Miércoles es un día donde se escucha menos música en las ciudades.\n"
   ]
  },
  {
   "cell_type": "markdown",
   "metadata": {
    "id": "POzs8bGa_Zcu"
   },
   "source": [
    "Ya sabes cómo contar entradas agrupándolas por ciudad o día. Ahora necesitas escribir una función que pueda contar entradas según ambos criterios simultáneamente.\n",
    "\n",
    "Crea la función `number_tracks()` para calcular el número de canciones reproducidas en un determinado día **y** ciudad. La función debe aceptar dos parámetros:\n",
    "\n",
    "- `day`: un día de la semana para filtrar. Por ejemplo, `'Monday'` (lunes).\n",
    "- `city`: una ciudad para filtrar. Por ejemplo, `'Springfield'`.\n",
    "\n",
    "Dentro de la función, aplicarás un filtrado consecutivo con indexación lógica.\n",
    "\n",
    "Primero filtra los datos por día y luego filtra la tabla resultante por ciudad.\n",
    "\n",
    "Después de filtrar los datos por dos criterios, cuenta el número de valores de la columna 'user_id' en la tabla resultante. Este recuento representa el número de entradas que estás buscando. Guarda el resultado en una nueva variable y devuélvelo desde la función."
   ]
  },
  {
   "cell_type": "code",
   "execution_count": 22,
   "metadata": {
    "id": "Nz3GdQB1_Zcu"
   },
   "outputs": [],
   "source": [
    "# Declara la función number_tracks() con dos parámetros: day= y city=.\n",
    "\n",
    "    # Almacena las filas del DataFrame donde el valor en la columna 'day' es igual al parámetro day=\n",
    "\n",
    "    # Filtra las filas donde el valor en la columna 'city' es igual al parámetro city=\n",
    "\n",
    "    # Extrae la columna 'user_id' de la tabla filtrada y aplica el método count()\n",
    "\n",
    "    # Devolve el número de valores de la columna 'user_id'\n",
    "    \n",
    "def number_tracks(day, city):\n",
    "    data = df[df['day'] == day]\n",
    "    data = data[data['city'] == city] \n",
    "    count = data['user_id'].count()\n",
    "    return count  \n",
    "    "
   ]
  },
  {
   "cell_type": "markdown",
   "metadata": {
    "id": "ytf7xFrFJQ2r"
   },
   "source": [
    "Llama a `number_tracks()` seis veces, cambiando los valores de los parámetros para que recuperes los datos de ambas ciudades para cada uno de los tres días."
   ]
  },
  {
   "cell_type": "code",
   "execution_count": 23,
   "metadata": {
    "id": "rJcRATNQ_Zcu"
   },
   "outputs": [
    {
     "data": {
      "text/plain": [
       "15740"
      ]
     },
     "execution_count": 23,
     "metadata": {},
     "output_type": "execute_result"
    }
   ],
   "source": [
    "# El número de canciones reproducidas en Springfield el lunes\n",
    "number_tracks('Monday', 'Springfield')"
   ]
  },
  {
   "cell_type": "code",
   "execution_count": 24,
   "metadata": {
    "id": "hq_ncZ5T_Zcu"
   },
   "outputs": [
    {
     "data": {
      "text/plain": [
       "5614"
      ]
     },
     "execution_count": 24,
     "metadata": {},
     "output_type": "execute_result"
    }
   ],
   "source": [
    "# El número de canciones reproducidas en Shelbyville el lunes\n",
    "number_tracks('Monday', 'Shelbyville')"
   ]
  },
  {
   "cell_type": "code",
   "execution_count": 25,
   "metadata": {
    "id": "_NTy2VPU_Zcu"
   },
   "outputs": [
    {
     "data": {
      "text/plain": [
       "11056"
      ]
     },
     "execution_count": 25,
     "metadata": {},
     "output_type": "execute_result"
    }
   ],
   "source": [
    "# El número de canciones reproducidas en Springfield el miércoles\n",
    "number_tracks('Wednesday', 'Springfield')"
   ]
  },
  {
   "cell_type": "code",
   "execution_count": 26,
   "metadata": {
    "id": "j2y3TAwo_Zcu"
   },
   "outputs": [
    {
     "data": {
      "text/plain": [
       "7003"
      ]
     },
     "execution_count": 26,
     "metadata": {},
     "output_type": "execute_result"
    }
   ],
   "source": [
    "# El número de canciones reproducidas en Shelbyville el miércoles\n",
    "number_tracks('Wednesday', 'Shelbyville')"
   ]
  },
  {
   "cell_type": "code",
   "execution_count": 27,
   "metadata": {
    "id": "vYDw5u_K_Zcu"
   },
   "outputs": [
    {
     "data": {
      "text/plain": [
       "15945"
      ]
     },
     "execution_count": 27,
     "metadata": {},
     "output_type": "execute_result"
    }
   ],
   "source": [
    "# El número de canciones reproducidas en Springfield el viernes\n",
    "number_tracks('Friday', 'Springfield')"
   ]
  },
  {
   "cell_type": "code",
   "execution_count": 28,
   "metadata": {
    "id": "8_yzFtW3_Zcu"
   },
   "outputs": [
    {
     "data": {
      "text/plain": [
       "5895"
      ]
     },
     "execution_count": 28,
     "metadata": {},
     "output_type": "execute_result"
    }
   ],
   "source": [
    "# El número de canciones reproducidas en Shelbyville el viernes\n",
    "number_tracks('Friday', 'Shelbyville')"
   ]
  },
  {
   "cell_type": "markdown",
   "metadata": {
    "id": "-EgPIHYu_Zcu"
   },
   "source": [
    "**Conclusiones**\n",
    "\n",
    "La hipótesis es correcta. \n",
    "En primer lugar, la cantidad de canciones que se escucha en Springfield es significativamente mayor a la escuchada en Shelbyville. \n",
    "Por otro lado, los días con mayor reproducción de canciones en Springfield son lunes y viernes, mientras que en Shelbyville esos días se escucha menos música. El día miércoles es el día donde la cantidad de canciones  reproducidas es menor en Springfield, pero el Shelbyville es el día preferido para escuchar música.\n"
   ]
  },
  {
   "cell_type": "markdown",
   "metadata": {
    "id": "p7nFQajCVw5B"
   },
   "source": [
    "[Volver a Contenidos](#back)"
   ]
  },
  {
   "cell_type": "markdown",
   "metadata": {
    "id": "ykKQ0N65_Zcv"
   },
   "source": [
    "# Conclusiones <a id='end'></a>"
   ]
  },
  {
   "cell_type": "markdown",
   "metadata": {
    "id": "tjUwbHb3_Zcv"
   },
   "source": [
    "El objetivo de este trabajo fue probar la hipótesis acerca de una posible diferencia de usuarios dependiendo de la ciudad y el día. Para esto, se comienza con una descripción de los datos utilizando los métodos head() e info(). Como resultado de esta primera etapa, nos damos cuenta de que las columnas 'track', 'artist' y 'genre' poseen valores nulos.\n",
    "La segunda fase corresponde al preprocesamiento de datos. En este momento, se estandarizan las columnas, se reemplazan los valores ausentes por ‘unknown’ y se eliminan duplicados explícitos. Además se reemplazan las  variables de ‘hiphop’ y en la columna ‘genre’.\n",
    "\n",
    "Finalmente, se prueba la hipótesis al comparar las canciones reproducidas por Springfield y Shelbyville para lunes, miércoles y viernes. Como resultado, confirmamos la hipótesis y obtenemos los siguientes insights:   \n",
    "\n",
    "*Springfield*:\n",
    "    lunes: 15740,\n",
    "    miércoles: 11056,\n",
    "    viernes: 15945.\n",
    "\n",
    "Día con mayor reproducción de de canciones: viernes.\n",
    "Día con menor reproducción de de canciones: miércoles.\n",
    "\n",
    "\n",
    "*Shelbyville*:\n",
    "    lunes: 5614,\n",
    "    miércoles: 7003,\n",
    "    viernes: 5895.\n",
    "\n",
    "Día con mayor reproducción de de canciones: miércoles.\n",
    "Día con menor reproducción de de canciones: lunes.\n",
    "\n",
    "Con los datos recopilados, se puede concluir que los comportamientos de ambas ciudades con respecto a la cantidad de canciones reproducidas durante la semana son muy distintos: Springfield escucha casi dos veces más música que Shelbyville y los comportamientos diarios de cada ciudad son opuestos. \n",
    "\n",
    "La falta de datos en 'genre' dificulta saber el comportamiento de las ciudades con respecto a gustos musicales. "
   ]
  },
  {
   "cell_type": "markdown",
   "metadata": {
    "id": "Ju4AHDSgV1FE"
   },
   "source": [
    "[Volver a Contenidos](#back)"
   ]
  }
 ],
 "metadata": {
  "ExecuteTimeLog": [
   {
    "duration": 450,
    "start_time": "2024-06-27T14:44:36.968Z"
   },
   {
    "duration": 6,
    "start_time": "2024-06-27T14:46:10.323Z"
   },
   {
    "duration": 341,
    "start_time": "2024-06-27T14:46:17.242Z"
   },
   {
    "duration": 209,
    "start_time": "2024-06-27T14:46:25.380Z"
   },
   {
    "duration": 460,
    "start_time": "2024-06-27T14:46:45.817Z"
   },
   {
    "duration": 153,
    "start_time": "2024-06-27T14:46:47.996Z"
   },
   {
    "duration": 11,
    "start_time": "2024-06-27T14:48:24.643Z"
   },
   {
    "duration": 48,
    "start_time": "2024-06-27T14:49:51.431Z"
   },
   {
    "duration": 370,
    "start_time": "2024-06-27T15:02:15.445Z"
   },
   {
    "duration": 440,
    "start_time": "2024-06-27T15:02:35.415Z"
   },
   {
    "duration": 4,
    "start_time": "2024-06-27T15:02:37.374Z"
   },
   {
    "duration": 400,
    "start_time": "2024-06-27T15:05:22.694Z"
   },
   {
    "duration": 169,
    "start_time": "2024-06-27T15:05:27.145Z"
   },
   {
    "duration": 10,
    "start_time": "2024-06-27T15:05:29.393Z"
   },
   {
    "duration": 33,
    "start_time": "2024-06-27T15:05:35.975Z"
   },
   {
    "duration": 23,
    "start_time": "2024-06-27T15:10:38.626Z"
   },
   {
    "duration": 6,
    "start_time": "2024-06-27T15:13:41.075Z"
   },
   {
    "duration": 6,
    "start_time": "2024-06-27T15:19:26.153Z"
   },
   {
    "duration": 11,
    "start_time": "2024-06-27T15:20:17.428Z"
   },
   {
    "duration": 6,
    "start_time": "2024-06-27T15:22:31.415Z"
   },
   {
    "duration": 387,
    "start_time": "2024-06-27T15:27:32.901Z"
   },
   {
    "duration": 7,
    "start_time": "2024-06-27T15:29:53.573Z"
   },
   {
    "duration": 25,
    "start_time": "2024-06-27T15:31:02.442Z"
   },
   {
    "duration": 6,
    "start_time": "2024-06-27T15:31:35.927Z"
   },
   {
    "duration": 5,
    "start_time": "2024-06-27T15:31:46.365Z"
   },
   {
    "duration": 5,
    "start_time": "2024-06-27T15:32:34.882Z"
   },
   {
    "duration": 5,
    "start_time": "2024-06-27T15:32:39.246Z"
   },
   {
    "duration": 7,
    "start_time": "2024-06-27T15:33:08.742Z"
   },
   {
    "duration": 4,
    "start_time": "2024-06-27T15:33:10.525Z"
   },
   {
    "duration": 5,
    "start_time": "2024-06-27T15:33:55.163Z"
   },
   {
    "duration": 4,
    "start_time": "2024-06-27T15:33:56.083Z"
   },
   {
    "duration": 26,
    "start_time": "2024-06-27T15:36:50.772Z"
   },
   {
    "duration": 17,
    "start_time": "2024-06-27T15:40:27.215Z"
   },
   {
    "duration": 27,
    "start_time": "2024-06-27T15:40:40.520Z"
   },
   {
    "duration": 78,
    "start_time": "2024-06-27T15:41:19.349Z"
   },
   {
    "duration": 30,
    "start_time": "2024-06-27T15:41:25.123Z"
   },
   {
    "duration": 99,
    "start_time": "2024-06-27T15:43:09.395Z"
   },
   {
    "duration": 95,
    "start_time": "2024-06-27T15:43:31.326Z"
   },
   {
    "duration": 87,
    "start_time": "2024-06-27T15:46:04.217Z"
   },
   {
    "duration": 70,
    "start_time": "2024-06-27T15:46:12.171Z"
   },
   {
    "duration": 11,
    "start_time": "2024-06-27T15:53:45.224Z"
   },
   {
    "duration": 26,
    "start_time": "2024-06-27T15:54:56.362Z"
   },
   {
    "duration": 27,
    "start_time": "2024-06-27T15:55:46.761Z"
   },
   {
    "duration": 12,
    "start_time": "2024-06-27T16:02:43.762Z"
   },
   {
    "duration": 9,
    "start_time": "2024-06-27T16:04:02.181Z"
   },
   {
    "duration": 8,
    "start_time": "2024-06-27T16:04:05.118Z"
   },
   {
    "duration": 9,
    "start_time": "2024-06-27T16:04:12.897Z"
   },
   {
    "duration": 25,
    "start_time": "2024-06-27T16:05:14.192Z"
   },
   {
    "duration": 8,
    "start_time": "2024-06-27T16:05:42.561Z"
   },
   {
    "duration": 25,
    "start_time": "2024-06-27T16:05:53.052Z"
   },
   {
    "duration": 10,
    "start_time": "2024-06-27T16:06:04.488Z"
   },
   {
    "duration": 16,
    "start_time": "2024-06-27T16:06:18.652Z"
   },
   {
    "duration": 14,
    "start_time": "2024-06-27T16:06:39.913Z"
   },
   {
    "duration": 15,
    "start_time": "2024-06-27T16:06:46.452Z"
   },
   {
    "duration": 14,
    "start_time": "2024-06-27T23:51:09.002Z"
   },
   {
    "duration": 6,
    "start_time": "2024-06-27T23:52:54.301Z"
   },
   {
    "duration": 5,
    "start_time": "2024-06-27T23:52:59.367Z"
   },
   {
    "duration": 4,
    "start_time": "2024-06-27T23:53:21.280Z"
   },
   {
    "duration": 474,
    "start_time": "2024-06-27T23:53:35.047Z"
   },
   {
    "duration": 212,
    "start_time": "2024-06-27T23:53:35.525Z"
   },
   {
    "duration": 10,
    "start_time": "2024-06-27T23:53:35.741Z"
   },
   {
    "duration": 38,
    "start_time": "2024-06-27T23:53:35.756Z"
   },
   {
    "duration": 41,
    "start_time": "2024-06-27T23:53:35.796Z"
   },
   {
    "duration": 6,
    "start_time": "2024-06-27T23:53:35.841Z"
   },
   {
    "duration": 6,
    "start_time": "2024-06-27T23:53:35.854Z"
   },
   {
    "duration": 9,
    "start_time": "2024-06-27T23:53:35.864Z"
   },
   {
    "duration": 6,
    "start_time": "2024-06-27T23:53:35.876Z"
   },
   {
    "duration": 70,
    "start_time": "2024-06-27T23:53:35.889Z"
   },
   {
    "duration": 18,
    "start_time": "2024-06-27T23:53:35.962Z"
   },
   {
    "duration": 59,
    "start_time": "2024-06-27T23:53:35.987Z"
   },
   {
    "duration": 109,
    "start_time": "2024-06-27T23:53:36.049Z"
   },
   {
    "duration": 113,
    "start_time": "2024-06-27T23:53:36.162Z"
   },
   {
    "duration": 79,
    "start_time": "2024-06-27T23:53:36.278Z"
   },
   {
    "duration": 16,
    "start_time": "2024-06-27T23:53:36.360Z"
   },
   {
    "duration": 4,
    "start_time": "2024-06-27T23:53:36.379Z"
   },
   {
    "duration": 366,
    "start_time": "2024-06-27T23:53:36.387Z"
   },
   {
    "duration": 0,
    "start_time": "2024-06-27T23:53:36.756Z"
   },
   {
    "duration": 0,
    "start_time": "2024-06-27T23:53:36.758Z"
   },
   {
    "duration": 0,
    "start_time": "2024-06-27T23:53:36.761Z"
   },
   {
    "duration": 0,
    "start_time": "2024-06-27T23:53:36.763Z"
   },
   {
    "duration": 0,
    "start_time": "2024-06-27T23:53:36.765Z"
   },
   {
    "duration": 0,
    "start_time": "2024-06-27T23:53:36.767Z"
   },
   {
    "duration": 0,
    "start_time": "2024-06-27T23:53:36.770Z"
   },
   {
    "duration": 0,
    "start_time": "2024-06-27T23:53:36.772Z"
   },
   {
    "duration": 0,
    "start_time": "2024-06-27T23:53:36.775Z"
   },
   {
    "duration": 0,
    "start_time": "2024-06-27T23:53:36.777Z"
   },
   {
    "duration": 4,
    "start_time": "2024-06-27T23:54:10.316Z"
   },
   {
    "duration": 657,
    "start_time": "2024-06-27T23:54:45.168Z"
   },
   {
    "duration": 38,
    "start_time": "2024-06-27T23:55:27.965Z"
   },
   {
    "duration": 35,
    "start_time": "2024-06-27T23:56:34.349Z"
   },
   {
    "duration": 29,
    "start_time": "2024-06-27T23:58:02.538Z"
   },
   {
    "duration": 22,
    "start_time": "2024-06-27T23:59:38.723Z"
   },
   {
    "duration": 18,
    "start_time": "2024-06-27T23:59:51.862Z"
   },
   {
    "duration": 8,
    "start_time": "2024-06-28T00:00:52.710Z"
   },
   {
    "duration": 27,
    "start_time": "2024-06-28T00:01:03.945Z"
   },
   {
    "duration": 26,
    "start_time": "2024-06-28T00:01:19.209Z"
   },
   {
    "duration": 13,
    "start_time": "2024-06-28T00:01:49.582Z"
   },
   {
    "duration": 19,
    "start_time": "2024-06-28T00:02:27.672Z"
   },
   {
    "duration": 20,
    "start_time": "2024-06-28T00:02:41.519Z"
   },
   {
    "duration": 11,
    "start_time": "2024-06-28T00:03:25.126Z"
   },
   {
    "duration": 6,
    "start_time": "2024-06-28T00:34:25.951Z"
   },
   {
    "duration": 4,
    "start_time": "2024-06-28T00:34:40.388Z"
   },
   {
    "duration": 5,
    "start_time": "2024-06-28T00:35:14.484Z"
   },
   {
    "duration": 244,
    "start_time": "2024-06-28T00:35:54.016Z"
   },
   {
    "duration": 7,
    "start_time": "2024-06-28T00:36:30.575Z"
   },
   {
    "duration": 257,
    "start_time": "2024-06-28T00:36:34.049Z"
   },
   {
    "duration": 15,
    "start_time": "2024-06-28T00:36:37.564Z"
   },
   {
    "duration": 15,
    "start_time": "2024-06-28T00:37:06.496Z"
   },
   {
    "duration": 15,
    "start_time": "2024-06-28T00:37:12.609Z"
   },
   {
    "duration": 18,
    "start_time": "2024-06-28T00:48:35.654Z"
   },
   {
    "duration": 6,
    "start_time": "2024-06-28T01:25:15.577Z"
   },
   {
    "duration": 4,
    "start_time": "2024-06-28T01:25:31.056Z"
   },
   {
    "duration": 5,
    "start_time": "2024-06-28T01:27:15.586Z"
   },
   {
    "duration": 23,
    "start_time": "2024-06-28T01:27:44.504Z"
   },
   {
    "duration": 25,
    "start_time": "2024-06-28T01:28:17.252Z"
   },
   {
    "duration": 20,
    "start_time": "2024-06-28T01:28:23.010Z"
   },
   {
    "duration": 21,
    "start_time": "2024-06-28T01:28:34.010Z"
   },
   {
    "duration": 19,
    "start_time": "2024-06-28T01:28:46.592Z"
   },
   {
    "duration": 26,
    "start_time": "2024-06-28T01:29:23.681Z"
   },
   {
    "duration": 20,
    "start_time": "2024-06-28T01:29:24.690Z"
   },
   {
    "duration": 485,
    "start_time": "2024-06-28T01:41:14.317Z"
   },
   {
    "duration": 171,
    "start_time": "2024-06-28T01:41:14.805Z"
   },
   {
    "duration": 11,
    "start_time": "2024-06-28T01:41:14.978Z"
   },
   {
    "duration": 49,
    "start_time": "2024-06-28T01:41:14.994Z"
   },
   {
    "duration": 9,
    "start_time": "2024-06-28T01:41:15.046Z"
   },
   {
    "duration": 5,
    "start_time": "2024-06-28T01:41:15.058Z"
   },
   {
    "duration": 5,
    "start_time": "2024-06-28T01:41:15.065Z"
   },
   {
    "duration": 5,
    "start_time": "2024-06-28T01:41:15.074Z"
   },
   {
    "duration": 52,
    "start_time": "2024-06-28T01:41:15.081Z"
   },
   {
    "duration": 26,
    "start_time": "2024-06-28T01:41:15.141Z"
   },
   {
    "duration": 16,
    "start_time": "2024-06-28T01:41:15.170Z"
   },
   {
    "duration": 59,
    "start_time": "2024-06-28T01:41:15.190Z"
   },
   {
    "duration": 92,
    "start_time": "2024-06-28T01:41:15.252Z"
   },
   {
    "duration": 101,
    "start_time": "2024-06-28T01:41:15.347Z"
   },
   {
    "duration": 81,
    "start_time": "2024-06-28T01:41:15.451Z"
   },
   {
    "duration": 16,
    "start_time": "2024-06-28T01:41:15.536Z"
   },
   {
    "duration": 5,
    "start_time": "2024-06-28T01:41:15.554Z"
   },
   {
    "duration": 26,
    "start_time": "2024-06-28T01:41:15.561Z"
   },
   {
    "duration": 45,
    "start_time": "2024-06-28T01:41:15.589Z"
   },
   {
    "duration": 16,
    "start_time": "2024-06-28T01:41:15.637Z"
   },
   {
    "duration": 17,
    "start_time": "2024-06-28T01:41:15.655Z"
   },
   {
    "duration": 5,
    "start_time": "2024-06-28T01:41:15.674Z"
   },
   {
    "duration": 64,
    "start_time": "2024-06-28T01:41:15.681Z"
   },
   {
    "duration": 20,
    "start_time": "2024-06-28T01:41:15.749Z"
   },
   {
    "duration": 21,
    "start_time": "2024-06-28T01:41:15.772Z"
   },
   {
    "duration": 23,
    "start_time": "2024-06-28T01:41:15.833Z"
   },
   {
    "duration": 25,
    "start_time": "2024-06-28T01:41:15.861Z"
   },
   {
    "duration": 49,
    "start_time": "2024-06-28T01:41:15.894Z"
   },
   {
    "duration": 11,
    "start_time": "2024-06-28T03:36:34.082Z"
   },
   {
    "duration": 402,
    "start_time": "2024-06-28T03:37:20.390Z"
   },
   {
    "duration": 164,
    "start_time": "2024-06-28T03:37:20.795Z"
   },
   {
    "duration": 10,
    "start_time": "2024-06-28T03:37:20.962Z"
   },
   {
    "duration": 56,
    "start_time": "2024-06-28T03:37:20.978Z"
   },
   {
    "duration": 11,
    "start_time": "2024-06-28T03:37:21.037Z"
   },
   {
    "duration": 5,
    "start_time": "2024-06-28T03:37:21.051Z"
   },
   {
    "duration": 4,
    "start_time": "2024-06-28T03:37:21.060Z"
   },
   {
    "duration": 5,
    "start_time": "2024-06-28T03:37:21.067Z"
   },
   {
    "duration": 5,
    "start_time": "2024-06-28T03:37:21.075Z"
   },
   {
    "duration": 25,
    "start_time": "2024-06-28T03:37:21.132Z"
   },
   {
    "duration": 18,
    "start_time": "2024-06-28T03:37:21.159Z"
   },
   {
    "duration": 55,
    "start_time": "2024-06-28T03:37:21.180Z"
   },
   {
    "duration": 101,
    "start_time": "2024-06-28T03:37:21.238Z"
   },
   {
    "duration": 104,
    "start_time": "2024-06-28T03:37:21.342Z"
   },
   {
    "duration": 68,
    "start_time": "2024-06-28T03:37:21.449Z"
   },
   {
    "duration": 14,
    "start_time": "2024-06-28T03:37:21.533Z"
   },
   {
    "duration": 9,
    "start_time": "2024-06-28T03:37:21.551Z"
   },
   {
    "duration": 27,
    "start_time": "2024-06-28T03:37:21.562Z"
   },
   {
    "duration": 42,
    "start_time": "2024-06-28T03:37:21.593Z"
   },
   {
    "duration": 20,
    "start_time": "2024-06-28T03:37:21.638Z"
   },
   {
    "duration": 16,
    "start_time": "2024-06-28T03:37:21.661Z"
   },
   {
    "duration": 4,
    "start_time": "2024-06-28T03:37:21.680Z"
   },
   {
    "duration": 67,
    "start_time": "2024-06-28T03:37:21.688Z"
   },
   {
    "duration": 21,
    "start_time": "2024-06-28T03:37:21.757Z"
   },
   {
    "duration": 20,
    "start_time": "2024-06-28T03:37:21.781Z"
   },
   {
    "duration": 20,
    "start_time": "2024-06-28T03:37:21.832Z"
   },
   {
    "duration": 22,
    "start_time": "2024-06-28T03:37:21.855Z"
   },
   {
    "duration": 52,
    "start_time": "2024-06-28T03:37:21.883Z"
   },
   {
    "duration": 10,
    "start_time": "2024-06-28T15:36:37.123Z"
   },
   {
    "duration": 5,
    "start_time": "2024-06-28T15:37:09.522Z"
   },
   {
    "duration": 313,
    "start_time": "2024-06-28T15:37:19.471Z"
   },
   {
    "duration": 5,
    "start_time": "2024-06-28T15:37:42.936Z"
   },
   {
    "duration": 420,
    "start_time": "2024-06-28T15:37:49.749Z"
   },
   {
    "duration": 184,
    "start_time": "2024-06-28T15:37:50.173Z"
   },
   {
    "duration": 12,
    "start_time": "2024-06-28T15:37:50.359Z"
   },
   {
    "duration": 46,
    "start_time": "2024-06-28T15:37:50.378Z"
   },
   {
    "duration": 10,
    "start_time": "2024-06-28T15:37:50.427Z"
   },
   {
    "duration": 4,
    "start_time": "2024-06-28T15:37:50.441Z"
   },
   {
    "duration": 8,
    "start_time": "2024-06-28T15:37:50.449Z"
   },
   {
    "duration": 42,
    "start_time": "2024-06-28T15:37:50.461Z"
   },
   {
    "duration": 4,
    "start_time": "2024-06-28T15:37:50.506Z"
   },
   {
    "duration": 25,
    "start_time": "2024-06-28T15:37:50.516Z"
   },
   {
    "duration": 17,
    "start_time": "2024-06-28T15:37:50.544Z"
   },
   {
    "duration": 27,
    "start_time": "2024-06-28T15:37:50.603Z"
   },
   {
    "duration": 97,
    "start_time": "2024-06-28T15:37:50.633Z"
   },
   {
    "duration": 100,
    "start_time": "2024-06-28T15:37:50.733Z"
   },
   {
    "duration": 79,
    "start_time": "2024-06-28T15:37:50.835Z"
   },
   {
    "duration": 12,
    "start_time": "2024-06-28T15:37:50.917Z"
   },
   {
    "duration": 5,
    "start_time": "2024-06-28T15:37:50.932Z"
   },
   {
    "duration": 64,
    "start_time": "2024-06-28T15:37:50.941Z"
   },
   {
    "duration": 13,
    "start_time": "2024-06-28T15:37:51.008Z"
   },
   {
    "duration": 17,
    "start_time": "2024-06-28T15:37:51.025Z"
   },
   {
    "duration": 56,
    "start_time": "2024-06-28T15:37:51.045Z"
   },
   {
    "duration": 5,
    "start_time": "2024-06-28T15:37:51.104Z"
   },
   {
    "duration": 1206,
    "start_time": "2024-06-28T15:37:51.112Z"
   },
   {
    "duration": 0,
    "start_time": "2024-06-28T15:37:52.320Z"
   },
   {
    "duration": 0,
    "start_time": "2024-06-28T15:37:52.324Z"
   },
   {
    "duration": 0,
    "start_time": "2024-06-28T15:37:52.330Z"
   },
   {
    "duration": 0,
    "start_time": "2024-06-28T15:37:52.332Z"
   },
   {
    "duration": 0,
    "start_time": "2024-06-28T15:37:52.334Z"
   },
   {
    "duration": 477,
    "start_time": "2024-06-28T15:38:10.487Z"
   },
   {
    "duration": 161,
    "start_time": "2024-06-28T15:38:10.968Z"
   },
   {
    "duration": 11,
    "start_time": "2024-06-28T15:38:11.132Z"
   },
   {
    "duration": 57,
    "start_time": "2024-06-28T15:38:11.147Z"
   },
   {
    "duration": 10,
    "start_time": "2024-06-28T15:38:11.207Z"
   },
   {
    "duration": 5,
    "start_time": "2024-06-28T15:38:11.220Z"
   },
   {
    "duration": 5,
    "start_time": "2024-06-28T15:38:11.229Z"
   },
   {
    "duration": 5,
    "start_time": "2024-06-28T15:38:11.237Z"
   },
   {
    "duration": 5,
    "start_time": "2024-06-28T15:38:11.246Z"
   },
   {
    "duration": 25,
    "start_time": "2024-06-28T15:38:11.302Z"
   },
   {
    "duration": 17,
    "start_time": "2024-06-28T15:38:11.330Z"
   },
   {
    "duration": 56,
    "start_time": "2024-06-28T15:38:11.351Z"
   },
   {
    "duration": 91,
    "start_time": "2024-06-28T15:38:11.411Z"
   },
   {
    "duration": 101,
    "start_time": "2024-06-28T15:38:11.505Z"
   },
   {
    "duration": 93,
    "start_time": "2024-06-28T15:38:11.610Z"
   },
   {
    "duration": 14,
    "start_time": "2024-06-28T15:38:11.706Z"
   },
   {
    "duration": 7,
    "start_time": "2024-06-28T15:38:11.722Z"
   },
   {
    "duration": 26,
    "start_time": "2024-06-28T15:38:11.733Z"
   },
   {
    "duration": 49,
    "start_time": "2024-06-28T15:38:11.762Z"
   },
   {
    "duration": 17,
    "start_time": "2024-06-28T15:38:11.814Z"
   },
   {
    "duration": 16,
    "start_time": "2024-06-28T15:38:11.834Z"
   },
   {
    "duration": 5,
    "start_time": "2024-06-28T15:38:11.853Z"
   },
   {
    "duration": 59,
    "start_time": "2024-06-28T15:38:11.861Z"
   },
   {
    "duration": 22,
    "start_time": "2024-06-28T15:38:11.922Z"
   },
   {
    "duration": 56,
    "start_time": "2024-06-28T15:38:11.947Z"
   },
   {
    "duration": 20,
    "start_time": "2024-06-28T15:38:12.005Z"
   },
   {
    "duration": 23,
    "start_time": "2024-06-28T15:38:12.028Z"
   },
   {
    "duration": 52,
    "start_time": "2024-06-28T15:38:12.058Z"
   },
   {
    "duration": 324,
    "start_time": "2024-06-28T18:32:55.166Z"
   },
   {
    "duration": 452,
    "start_time": "2024-06-28T18:33:07.181Z"
   },
   {
    "duration": 187,
    "start_time": "2024-06-28T18:33:07.637Z"
   },
   {
    "duration": 12,
    "start_time": "2024-06-28T18:33:07.827Z"
   },
   {
    "duration": 35,
    "start_time": "2024-06-28T18:33:07.842Z"
   },
   {
    "duration": 39,
    "start_time": "2024-06-28T18:33:07.882Z"
   },
   {
    "duration": 5,
    "start_time": "2024-06-28T18:33:07.925Z"
   },
   {
    "duration": 5,
    "start_time": "2024-06-28T18:33:07.935Z"
   },
   {
    "duration": 5,
    "start_time": "2024-06-28T18:33:07.943Z"
   },
   {
    "duration": 7,
    "start_time": "2024-06-28T18:33:07.952Z"
   },
   {
    "duration": 28,
    "start_time": "2024-06-28T18:33:08.013Z"
   },
   {
    "duration": 18,
    "start_time": "2024-06-28T18:33:08.045Z"
   },
   {
    "duration": 60,
    "start_time": "2024-06-28T18:33:08.068Z"
   },
   {
    "duration": 102,
    "start_time": "2024-06-28T18:33:08.131Z"
   },
   {
    "duration": 116,
    "start_time": "2024-06-28T18:33:08.241Z"
   },
   {
    "duration": 78,
    "start_time": "2024-06-28T18:33:08.360Z"
   },
   {
    "duration": 12,
    "start_time": "2024-06-28T18:33:08.441Z"
   },
   {
    "duration": 5,
    "start_time": "2024-06-28T18:33:08.456Z"
   },
   {
    "duration": 60,
    "start_time": "2024-06-28T18:33:08.463Z"
   },
   {
    "duration": 12,
    "start_time": "2024-06-28T18:33:08.526Z"
   },
   {
    "duration": 18,
    "start_time": "2024-06-28T18:33:08.541Z"
   },
   {
    "duration": 51,
    "start_time": "2024-06-28T18:33:08.562Z"
   },
   {
    "duration": 5,
    "start_time": "2024-06-28T18:33:08.617Z"
   },
   {
    "duration": 24,
    "start_time": "2024-06-28T18:33:08.625Z"
   },
   {
    "duration": 19,
    "start_time": "2024-06-28T18:33:08.652Z"
   },
   {
    "duration": 53,
    "start_time": "2024-06-28T18:33:08.674Z"
   },
   {
    "duration": 19,
    "start_time": "2024-06-28T18:33:08.730Z"
   },
   {
    "duration": 24,
    "start_time": "2024-06-28T18:33:08.752Z"
   },
   {
    "duration": 21,
    "start_time": "2024-06-28T18:33:08.814Z"
   },
   {
    "duration": 53,
    "start_time": "2024-06-28T18:34:56.376Z"
   },
   {
    "duration": 5,
    "start_time": "2024-06-28T18:38:32.044Z"
   },
   {
    "duration": 22,
    "start_time": "2024-06-28T18:38:34.916Z"
   },
   {
    "duration": 23,
    "start_time": "2024-06-28T18:38:36.557Z"
   },
   {
    "duration": 6,
    "start_time": "2024-06-28T18:40:09.681Z"
   },
   {
    "duration": 343,
    "start_time": "2024-06-28T18:40:40.249Z"
   },
   {
    "duration": 6,
    "start_time": "2024-06-28T18:40:51.001Z"
   },
   {
    "duration": 22,
    "start_time": "2024-06-28T18:40:54.198Z"
   },
   {
    "duration": 447,
    "start_time": "2024-06-28T18:43:42.654Z"
   },
   {
    "duration": 171,
    "start_time": "2024-06-28T18:43:43.104Z"
   },
   {
    "duration": 12,
    "start_time": "2024-06-28T18:43:43.280Z"
   },
   {
    "duration": 44,
    "start_time": "2024-06-28T18:43:43.294Z"
   },
   {
    "duration": 9,
    "start_time": "2024-06-28T18:43:43.344Z"
   },
   {
    "duration": 7,
    "start_time": "2024-06-28T18:43:43.356Z"
   },
   {
    "duration": 5,
    "start_time": "2024-06-28T18:43:43.366Z"
   },
   {
    "duration": 5,
    "start_time": "2024-06-28T18:43:43.415Z"
   },
   {
    "duration": 6,
    "start_time": "2024-06-28T18:43:43.423Z"
   },
   {
    "duration": 26,
    "start_time": "2024-06-28T18:43:43.432Z"
   },
   {
    "duration": 54,
    "start_time": "2024-06-28T18:43:43.461Z"
   },
   {
    "duration": 30,
    "start_time": "2024-06-28T18:43:43.518Z"
   },
   {
    "duration": 101,
    "start_time": "2024-06-28T18:43:43.553Z"
   },
   {
    "duration": 117,
    "start_time": "2024-06-28T18:43:43.661Z"
   },
   {
    "duration": 89,
    "start_time": "2024-06-28T18:43:43.782Z"
   },
   {
    "duration": 65,
    "start_time": "2024-06-28T18:43:43.874Z"
   },
   {
    "duration": 6,
    "start_time": "2024-06-28T18:43:43.942Z"
   },
   {
    "duration": 31,
    "start_time": "2024-06-28T18:43:43.951Z"
   },
   {
    "duration": 177,
    "start_time": "2024-06-28T18:43:43.985Z"
   },
   {
    "duration": 0,
    "start_time": "2024-06-28T18:43:44.165Z"
   },
   {
    "duration": 0,
    "start_time": "2024-06-28T18:43:44.166Z"
   },
   {
    "duration": 0,
    "start_time": "2024-06-28T18:43:44.168Z"
   },
   {
    "duration": 0,
    "start_time": "2024-06-28T18:43:44.170Z"
   },
   {
    "duration": 0,
    "start_time": "2024-06-28T18:43:44.173Z"
   },
   {
    "duration": 0,
    "start_time": "2024-06-28T18:43:44.175Z"
   },
   {
    "duration": 0,
    "start_time": "2024-06-28T18:43:44.177Z"
   },
   {
    "duration": 0,
    "start_time": "2024-06-28T18:43:44.179Z"
   },
   {
    "duration": 0,
    "start_time": "2024-06-28T18:43:44.181Z"
   },
   {
    "duration": 53,
    "start_time": "2024-06-28T18:44:18.973Z"
   },
   {
    "duration": 414,
    "start_time": "2024-06-28T18:44:39.467Z"
   },
   {
    "duration": 166,
    "start_time": "2024-06-28T18:44:39.884Z"
   },
   {
    "duration": 12,
    "start_time": "2024-06-28T18:44:40.053Z"
   },
   {
    "duration": 56,
    "start_time": "2024-06-28T18:44:40.068Z"
   },
   {
    "duration": 8,
    "start_time": "2024-06-28T18:44:40.130Z"
   },
   {
    "duration": 4,
    "start_time": "2024-06-28T18:44:40.142Z"
   },
   {
    "duration": 5,
    "start_time": "2024-06-28T18:44:40.149Z"
   },
   {
    "duration": 5,
    "start_time": "2024-06-28T18:44:40.157Z"
   },
   {
    "duration": 4,
    "start_time": "2024-06-28T18:44:40.211Z"
   },
   {
    "duration": 29,
    "start_time": "2024-06-28T18:44:40.218Z"
   },
   {
    "duration": 16,
    "start_time": "2024-06-28T18:44:40.250Z"
   },
   {
    "duration": 66,
    "start_time": "2024-06-28T18:44:40.269Z"
   },
   {
    "duration": 102,
    "start_time": "2024-06-28T18:44:40.338Z"
   },
   {
    "duration": 98,
    "start_time": "2024-06-28T18:44:40.446Z"
   },
   {
    "duration": 83,
    "start_time": "2024-06-28T18:44:40.547Z"
   },
   {
    "duration": 53,
    "start_time": "2024-06-28T18:44:40.633Z"
   },
   {
    "duration": 4,
    "start_time": "2024-06-28T18:44:40.689Z"
   },
   {
    "duration": 26,
    "start_time": "2024-06-28T18:44:40.714Z"
   },
   {
    "duration": 77,
    "start_time": "2024-06-28T18:44:40.743Z"
   },
   {
    "duration": 16,
    "start_time": "2024-06-28T18:44:40.823Z"
   },
   {
    "duration": 16,
    "start_time": "2024-06-28T18:44:40.842Z"
   },
   {
    "duration": 5,
    "start_time": "2024-06-28T18:44:40.861Z"
   },
   {
    "duration": 59,
    "start_time": "2024-06-28T18:44:40.870Z"
   },
   {
    "duration": 22,
    "start_time": "2024-06-28T18:44:40.932Z"
   },
   {
    "duration": 57,
    "start_time": "2024-06-28T18:44:40.957Z"
   },
   {
    "duration": 25,
    "start_time": "2024-06-28T18:44:41.017Z"
   },
   {
    "duration": 24,
    "start_time": "2024-06-28T18:44:41.046Z"
   },
   {
    "duration": 53,
    "start_time": "2024-06-28T18:44:41.074Z"
   },
   {
    "duration": 535,
    "start_time": "2024-06-28T19:20:12.817Z"
   },
   {
    "duration": 174,
    "start_time": "2024-06-28T19:20:13.359Z"
   },
   {
    "duration": 11,
    "start_time": "2024-06-28T19:20:13.536Z"
   },
   {
    "duration": 33,
    "start_time": "2024-06-28T19:20:13.551Z"
   },
   {
    "duration": 22,
    "start_time": "2024-06-28T19:20:13.614Z"
   },
   {
    "duration": 7,
    "start_time": "2024-06-28T19:20:13.642Z"
   },
   {
    "duration": 11,
    "start_time": "2024-06-28T19:20:13.652Z"
   },
   {
    "duration": 5,
    "start_time": "2024-06-28T19:20:13.665Z"
   },
   {
    "duration": 5,
    "start_time": "2024-06-28T19:20:13.673Z"
   },
   {
    "duration": 64,
    "start_time": "2024-06-28T19:20:13.686Z"
   },
   {
    "duration": 23,
    "start_time": "2024-06-28T19:20:13.753Z"
   },
   {
    "duration": 61,
    "start_time": "2024-06-28T19:20:13.779Z"
   },
   {
    "duration": 103,
    "start_time": "2024-06-28T19:20:13.844Z"
   },
   {
    "duration": 131,
    "start_time": "2024-06-28T19:20:13.950Z"
   },
   {
    "duration": 96,
    "start_time": "2024-06-28T19:20:14.086Z"
   },
   {
    "duration": 72,
    "start_time": "2024-06-28T19:20:14.185Z"
   },
   {
    "duration": 5,
    "start_time": "2024-06-28T19:20:14.261Z"
   },
   {
    "duration": 57,
    "start_time": "2024-06-28T19:20:14.269Z"
   },
   {
    "duration": 61,
    "start_time": "2024-06-28T19:20:14.329Z"
   },
   {
    "duration": 34,
    "start_time": "2024-06-28T19:20:14.393Z"
   },
   {
    "duration": 23,
    "start_time": "2024-06-28T19:20:14.430Z"
   },
   {
    "duration": 6,
    "start_time": "2024-06-28T19:20:14.457Z"
   },
   {
    "duration": 60,
    "start_time": "2024-06-28T19:20:14.467Z"
   },
   {
    "duration": 32,
    "start_time": "2024-06-28T19:20:14.531Z"
   },
   {
    "duration": 28,
    "start_time": "2024-06-28T19:20:14.566Z"
   },
   {
    "duration": 26,
    "start_time": "2024-06-28T19:20:14.615Z"
   },
   {
    "duration": 27,
    "start_time": "2024-06-28T19:20:14.645Z"
   },
   {
    "duration": 44,
    "start_time": "2024-06-28T19:20:14.678Z"
   },
   {
    "duration": 468,
    "start_time": "2024-07-28T20:19:27.042Z"
   },
   {
    "duration": 195,
    "start_time": "2024-07-28T20:19:27.514Z"
   },
   {
    "duration": 13,
    "start_time": "2024-07-28T20:19:27.712Z"
   },
   {
    "duration": 34,
    "start_time": "2024-07-28T20:19:27.729Z"
   },
   {
    "duration": 45,
    "start_time": "2024-07-28T20:19:27.766Z"
   },
   {
    "duration": 5,
    "start_time": "2024-07-28T20:19:27.814Z"
   },
   {
    "duration": 5,
    "start_time": "2024-07-28T20:19:27.823Z"
   },
   {
    "duration": 4,
    "start_time": "2024-07-28T20:19:27.832Z"
   },
   {
    "duration": 5,
    "start_time": "2024-07-28T20:19:27.840Z"
   },
   {
    "duration": 76,
    "start_time": "2024-07-28T20:19:27.851Z"
   },
   {
    "duration": 18,
    "start_time": "2024-07-28T20:19:27.931Z"
   },
   {
    "duration": 57,
    "start_time": "2024-07-28T20:19:27.953Z"
   },
   {
    "duration": 97,
    "start_time": "2024-07-28T20:19:28.013Z"
   },
   {
    "duration": 107,
    "start_time": "2024-07-28T20:19:28.113Z"
   },
   {
    "duration": 85,
    "start_time": "2024-07-28T20:19:28.223Z"
   },
   {
    "duration": 53,
    "start_time": "2024-07-28T20:19:28.311Z"
   },
   {
    "duration": 4,
    "start_time": "2024-07-28T20:19:28.367Z"
   },
   {
    "duration": 54,
    "start_time": "2024-07-28T20:19:28.374Z"
   },
   {
    "duration": 53,
    "start_time": "2024-07-28T20:19:28.430Z"
   },
   {
    "duration": 37,
    "start_time": "2024-07-28T20:19:28.486Z"
   },
   {
    "duration": 18,
    "start_time": "2024-07-28T20:19:28.527Z"
   },
   {
    "duration": 6,
    "start_time": "2024-07-28T20:19:28.548Z"
   },
   {
    "duration": 65,
    "start_time": "2024-07-28T20:19:28.558Z"
   },
   {
    "duration": 21,
    "start_time": "2024-07-28T20:19:28.626Z"
   },
   {
    "duration": 20,
    "start_time": "2024-07-28T20:19:28.649Z"
   },
   {
    "duration": 53,
    "start_time": "2024-07-28T20:19:28.672Z"
   },
   {
    "duration": 24,
    "start_time": "2024-07-28T20:19:28.728Z"
   },
   {
    "duration": 57,
    "start_time": "2024-07-28T20:19:28.759Z"
   }
  ],
  "colab": {
   "collapsed_sections": [
    "E0vqbgi9ay0H",
    "VUC88oWjTJw2"
   ],
   "provenance": []
  },
  "kernelspec": {
   "display_name": "Python 3 (ipykernel)",
   "language": "python",
   "name": "python3"
  },
  "language_info": {
   "codemirror_mode": {
    "name": "ipython",
    "version": 3
   },
   "file_extension": ".py",
   "mimetype": "text/x-python",
   "name": "python",
   "nbconvert_exporter": "python",
   "pygments_lexer": "ipython3",
   "version": "3.9.19"
  },
  "toc": {
   "base_numbering": 1,
   "nav_menu": {},
   "number_sections": true,
   "sideBar": true,
   "skip_h1_title": true,
   "title_cell": "Table of Contents",
   "title_sidebar": "Contents",
   "toc_cell": false,
   "toc_position": {},
   "toc_section_display": true,
   "toc_window_display": false
  }
 },
 "nbformat": 4,
 "nbformat_minor": 1
}
